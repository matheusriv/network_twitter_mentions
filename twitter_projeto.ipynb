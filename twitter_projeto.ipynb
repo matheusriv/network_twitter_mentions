{
  "nbformat": 4,
  "nbformat_minor": 0,
  "metadata": {
    "colab": {
      "name": "twitter_projeto.ipynb",
      "provenance": [],
      "collapsed_sections": []
    },
    "kernelspec": {
      "name": "python3",
      "display_name": "Python 3"
    },
    "language_info": {
      "name": "python"
    }
  },
  "cells": [
    {
      "cell_type": "markdown",
      "source": [
        "# 1 Introduction\n",
        "\n",
        "## 1.1 Building a network of mentions with tweets\n",
        "\n",
        "In this notebook we will use Twitter data from the point of view of a network analysis. We are going to make a network of mentions using usernames from a tweet and the usernames mentioned. The network was built using tweets in Portuguese that contain the hashtag #covid19. For this, the Python programming language, Twitter API and necessary packages were used.\n",
        "\n",
        "## 1.2 Twitter API\n",
        "\n",
        "The Twitter API can be used to programmatically retrieve and analyze Twitter data, as well as build for the conversation on Twitter. Over the years, the Twitter API has grown by adding additional levels of access for developers and academic researchers to be able to scale their access to enhance and research the public conversation. \n",
        "\n",
        "## 1.3 Copyright\n",
        "\n",
        "***Copyright:*** *Parts of the contents of this Colab Notebook, unless otherwise indicated, are Copyright 2020 Filippo Menczer, Santo Fortunato and Clayton A. Davis, [A First Course in Network Science](https://github.com/CambridgeUniversityPress/FirstCourseNetworkScience). All rights reserved.* \n",
        "\n",
        "***References***: getting started with the Twitter API v2 for academic research [here](https://github.com/twitterdev/getting-started-with-the-twitter-api-v2-for-academic-research). \n"
      ],
      "metadata": {
        "id": "sTsQlA-q3Tkr"
      }
    },
    {
      "cell_type": "markdown",
      "source": [
        "# 2 Authenticating with Twitter's API\n",
        "\n",
        "Twitter uses OAuth in order to allow third-party apps to access data on your behalf without requiring your Twitter login credentials -- note that none of the code in this notebook asks for your Twitter screen name or password.\n",
        "\n",
        "The OAuth \"dance\" can be intimidating when you first use it, but it provides a far more secure way for software to make requests on your behalf than providing your username and password.\n",
        "\n",
        "We'll make use of the\n",
        "[Twython](https://twython.readthedocs.io/en/latest/usage/starting_out.html#authentication)\n",
        "package to help us with authentication and querying Twitter's APIs."
      ],
      "metadata": {
        "id": "N9YefaIN3aEw"
      }
    },
    {
      "cell_type": "code",
      "source": [
        "!pip install Twython"
      ],
      "metadata": {
        "colab": {
          "base_uri": "https://localhost:8080/"
        },
        "id": "Ns1TWFr_3c3x",
        "outputId": "9662b741-6492-4554-84cb-f1499378e6b9"
      },
      "execution_count": null,
      "outputs": [
        {
          "output_type": "stream",
          "name": "stdout",
          "text": [
            "Collecting Twython\n",
            "  Downloading twython-3.9.1-py3-none-any.whl (33 kB)\n",
            "Requirement already satisfied: requests-oauthlib>=0.4.0 in /usr/local/lib/python3.7/dist-packages (from Twython) (1.3.1)\n",
            "Requirement already satisfied: requests>=2.1.0 in /usr/local/lib/python3.7/dist-packages (from Twython) (2.23.0)\n",
            "Requirement already satisfied: chardet<4,>=3.0.2 in /usr/local/lib/python3.7/dist-packages (from requests>=2.1.0->Twython) (3.0.4)\n",
            "Requirement already satisfied: certifi>=2017.4.17 in /usr/local/lib/python3.7/dist-packages (from requests>=2.1.0->Twython) (2021.10.8)\n",
            "Requirement already satisfied: idna<3,>=2.5 in /usr/local/lib/python3.7/dist-packages (from requests>=2.1.0->Twython) (2.10)\n",
            "Requirement already satisfied: urllib3!=1.25.0,!=1.25.1,<1.26,>=1.21.1 in /usr/local/lib/python3.7/dist-packages (from requests>=2.1.0->Twython) (1.24.3)\n",
            "Requirement already satisfied: oauthlib>=3.0.0 in /usr/local/lib/python3.7/dist-packages (from requests-oauthlib>=0.4.0->Twython) (3.2.0)\n",
            "Installing collected packages: Twython\n",
            "Successfully installed Twython-3.9.1\n"
          ]
        }
      ]
    },
    {
      "cell_type": "code",
      "source": [
        "from twython import Twython, TwythonError"
      ],
      "metadata": {
        "id": "ohU0X_C14OTx"
      },
      "execution_count": null,
      "outputs": []
    },
    {
      "cell_type": "markdown",
      "source": [
        "## 2.1 Enter app info and get auth URL\n",
        "\n",
        "In order to authenticate with Twitter, we'll provide the app details and  ask for a one-time authorization URL to authenticate your user with this app.\n",
        "\n",
        "Copy and paste the API key and secret from your Twitter app into a file named <font color=\"red\">keys.txt</font>. The first line is the API_KEY and the second line of the file is API_SECRET_KEY. "
      ],
      "metadata": {
        "id": "p5xFN2214RRM"
      }
    },
    {
      "cell_type": "code",
      "source": [
        "# open the keys file\n",
        "my_file = open(\"keys.txt\", \"r\")\n",
        "\n",
        "# read the raw data\n",
        "content = my_file.read()\n",
        "\n",
        "# split all lines by  newline character\n",
        "API_KEY, API_SECRET_KEY = content.split(\"\\n\")\n",
        "\n",
        "# close the file\n",
        "my_file.close()"
      ],
      "metadata": {
        "id": "PEGKWRy94fWl"
      },
      "execution_count": null,
      "outputs": []
    },
    {
      "cell_type": "markdown",
      "source": [
        "Executing the cell should then print out a clickable URL. This link is unique and will work **exactly** once. <font color=\"red\"> Visit this URL, log into Twitter, and then copy the verifier pin that is given to you so as to paste it in the next step</font>."
      ],
      "metadata": {
        "id": "rLeLDyaL4iEg"
      }
    },
    {
      "cell_type": "code",
      "source": [
        "twitter = Twython(API_KEY, API_SECRET_KEY)\n",
        "\n",
        "authentication_tokens = twitter.get_authentication_tokens()\n",
        "print(authentication_tokens['auth_url'])"
      ],
      "metadata": {
        "colab": {
          "base_uri": "https://localhost:8080/"
        },
        "id": "lBfpcSuz4jly",
        "outputId": "87aa8eca-ca8f-4eda-c37f-c9d96625df46"
      },
      "execution_count": null,
      "outputs": [
        {
          "output_type": "stream",
          "name": "stdout",
          "text": [
            "https://api.twitter.com/oauth/authenticate?oauth_token=_D-m2wAAAAABYwMeAAABfv7QHj0\n"
          ]
        }
      ]
    },
    {
      "cell_type": "markdown",
      "source": [
        "## 2.2 Authorize app using verifier PIN\n",
        "\n",
        "That verifier PIN goes into the next cell. This will be different every time you run these steps. The `authentication_tokens` include temporary tokens that go with this verifier PIN; by submitting these together, we show Twitter that we are who we say we are."
      ],
      "metadata": {
        "id": "LHaB7GRu4lXQ"
      }
    },
    {
      "cell_type": "code",
      "source": [
        "# Replace the verifier with the pin number obtained with your web browser in the previous step\n",
        "VERIFIER = '7435432'\n",
        "\n",
        "twitter = Twython(API_KEY, API_SECRET_KEY,\n",
        "                  authentication_tokens['oauth_token'],\n",
        "                  authentication_tokens['oauth_token_secret'])\n",
        "\n",
        "authorized_tokens = twitter.get_authorized_tokens(VERIFIER)"
      ],
      "metadata": {
        "id": "eyv9BJ8G4qYQ"
      },
      "execution_count": null,
      "outputs": []
    },
    {
      "cell_type": "markdown",
      "source": [
        "## 2.3 Use authorized tokens\n",
        "\n",
        "Now we have a permanent token pair that we can use to make authenticated calls to the Twitter API. We'll create a new Twython object using these authenticated keys and verify the credentials of the logged-in user."
      ],
      "metadata": {
        "id": "pkw3fHJl4sHB"
      }
    },
    {
      "cell_type": "code",
      "source": [
        "twitter = Twython(API_KEY, API_SECRET_KEY,\n",
        "                  authorized_tokens['oauth_token'],\n",
        "                  authorized_tokens['oauth_token_secret'])\n",
        "\n",
        "twitter.verify_credentials()"
      ],
      "metadata": {
        "id": "m5mtR6HF4vBo"
      },
      "execution_count": null,
      "outputs": []
    },
    {
      "cell_type": "markdown",
      "source": [
        "If the previous cell ran without error and printed out a dict corresponding to a\n",
        "[Twitter User](https://developer.twitter.com/en/docs/tweets/data-dictionary/overview/user-object),\n",
        "then you're good. The authorized token pair is like a username/password and should be protected as such."
      ],
      "metadata": {
        "id": "xKx2Sfue4w6A"
      }
    },
    {
      "cell_type": "markdown",
      "source": [
        "# 3 Twitter Mention Network"
      ],
      "metadata": {
        "id": "1I0uBEIi7z6B"
      }
    },
    {
      "cell_type": "markdown",
      "metadata": {
        "id": "dAvZwYXnri4N"
      },
      "source": [
        "\n",
        "A mention between users occurs when one user mentions another in a tweet by their @screen_name. As an example, consider the following tweet from @PhilSzostak:\n",
        "\n",
        "> Love that this chart highlights George Lucas, @skywalkersound, and @ILMVFX...\n",
        "\n",
        "From this tweet we would create two edges:\n",
        "\n",
        "    ('PhilSzostak', 'skywalkersound')\n",
        "    ('PhilSzostak', 'ILMVFX')\n",
        "\n",
        "It's up to us which direction we draw these edges, but we should be consistent. In this example, we will draw edges in the direction of attention flow: @PhilSzostak is giving attention to @skywalkersound and @ILMVFX.\n"
      ]
    },
    {
      "cell_type": "markdown",
      "source": [
        "There are some rate limitations in order to use the Twitter API, you can see the current limits calling get_applicaiton_rate_limit_status()"
      ],
      "metadata": {
        "id": "mfO_Yd0V28cb"
      }
    },
    {
      "cell_type": "code",
      "source": [
        "# current limits to search\n",
        "twitter.get_application_rate_limit_status()['resources'][\"search\"]"
      ],
      "metadata": {
        "colab": {
          "base_uri": "https://localhost:8080/"
        },
        "id": "q6V5PnEm711z",
        "outputId": "f5e81449-5b94-4bda-95dd-8d37cf4b1fcf"
      },
      "execution_count": null,
      "outputs": [
        {
          "output_type": "execute_result",
          "data": {
            "text/plain": [
              "{'/search/tweets': {'limit': 180, 'remaining': 180, 'reset': 1644953479}}"
            ]
          },
          "metadata": {},
          "execution_count": 8
        }
      ]
    },
    {
      "cell_type": "markdown",
      "source": [
        "## 3.1 Get some tweets"
      ],
      "metadata": {
        "id": "Qa3i1Afp3dpU"
      }
    },
    {
      "cell_type": "markdown",
      "source": [
        "Twitter's\n",
        "[Search API](https://developer.twitter.com/en/docs/tweets/search/api-reference/get-search-tweets.html)\n",
        "allows you to fetch recent tweets according to a query of keywords, URLs, hashtags, user mentions, etc.\n",
        "\n",
        "We'll make use of the ability to search by hashtags.\n",
        "\n",
        "We can only fetch up to 100 tweets at a time from a single search API call. And we have 180 API calls every 15 minutes. With this, you can get up to 18000 tweets every 15 minutes. \n",
        "\n",
        "In order to get more than 100 tweets from a single search API call, we can make use of a cursor:"
      ],
      "metadata": {
        "id": "o-yrw-h538Ol"
      }
    },
    {
      "cell_type": "code",
      "source": [
        "import itertools\n",
        "\n",
        "NUM_TWEETS_TO_FETCH = 1000\n",
        "hashtag = '#covid19'\n",
        "\n",
        "# tweets in portuguese containing the hashtag \"#covid19\"\n",
        "cursor = twitter.cursor(twitter.search, q=hashtag, count=100, result_type='recent', lang='pt')\n",
        "search_tweets = list(itertools.islice(cursor, NUM_TWEETS_TO_FETCH))\n",
        "\n",
        "len(search_tweets)"
      ],
      "metadata": {
        "colab": {
          "base_uri": "https://localhost:8080/"
        },
        "id": "xIBGm4S8E3Vq",
        "outputId": "c5cd0e34-7489-444e-f810-f7a38ab4da32"
      },
      "execution_count": null,
      "outputs": [
        {
          "output_type": "execute_result",
          "data": {
            "text/plain": [
              "1000"
            ]
          },
          "metadata": {},
          "execution_count": 32
        }
      ]
    },
    {
      "cell_type": "markdown",
      "source": [
        "It's not necessary to first filter out tweets containing user mentions due to a feature of\n",
        "[Tweet Objects](https://developer.twitter.com/en/docs/tweets/data-dictionary/overview/tweet-object):\n",
        "every tweet has\n",
        "[Entities](https://developer.twitter.com/en/docs/tweets/data-dictionary/overview/entities-object#entitiesobject)\n",
        "which always contains a `'user_mentions'` list, even if that list is empty. Since a tweet may mention more than one user, we need a nested for-loop.\n",
        "\n",
        "Using pandas dataframe to store data:"
      ],
      "metadata": {
        "id": "DZaRep894pRE"
      }
    },
    {
      "cell_type": "code",
      "source": [
        "import pandas as pd\n",
        "\n",
        "dict_ = {'username': [], 'mentioned': [], 'date': [], 'id': []}\n",
        "\n",
        "for tweet in search_tweets:\n",
        "    for user_mention in tweet['entities']['user_mentions']:\n",
        "      dict_['username'].append(tweet['user']['screen_name'])\n",
        "      dict_['mentioned'].append(user_mention['screen_name'])\n",
        "      dict_['date'].append(tweet['created_at'])\n",
        "      dict_['id'].append(tweet['id'])\n",
        "\n",
        "df = pd.DataFrame(dict_)\n",
        "\n",
        "print(df.shape)\n",
        "df.tail()"
      ],
      "metadata": {
        "colab": {
          "base_uri": "https://localhost:8080/",
          "height": 224
        },
        "id": "MVH0yYUdHtS2",
        "outputId": "2ada5700-cd37-4e1b-fb22-8e352684ce84"
      },
      "execution_count": null,
      "outputs": [
        {
          "output_type": "stream",
          "name": "stdout",
          "text": [
            "(765, 4)\n"
          ]
        },
        {
          "output_type": "execute_result",
          "data": {
            "text/html": [
              "\n",
              "  <div id=\"df-bbf3c659-cfc7-493e-a12d-51a6a0c6eba1\">\n",
              "    <div class=\"colab-df-container\">\n",
              "      <div>\n",
              "<style scoped>\n",
              "    .dataframe tbody tr th:only-of-type {\n",
              "        vertical-align: middle;\n",
              "    }\n",
              "\n",
              "    .dataframe tbody tr th {\n",
              "        vertical-align: top;\n",
              "    }\n",
              "\n",
              "    .dataframe thead th {\n",
              "        text-align: right;\n",
              "    }\n",
              "</style>\n",
              "<table border=\"1\" class=\"dataframe\">\n",
              "  <thead>\n",
              "    <tr style=\"text-align: right;\">\n",
              "      <th></th>\n",
              "      <th>username</th>\n",
              "      <th>mentioned</th>\n",
              "      <th>date</th>\n",
              "      <th>id</th>\n",
              "    </tr>\n",
              "  </thead>\n",
              "  <tbody>\n",
              "    <tr>\n",
              "      <th>760</th>\n",
              "      <td>FlorDeserto</td>\n",
              "      <td>FlorDeserto</td>\n",
              "      <td>Mon Feb 14 18:39:03 +0000 2022</td>\n",
              "      <td>1493293728638853124</td>\n",
              "    </tr>\n",
              "    <tr>\n",
              "      <th>761</th>\n",
              "      <td>FlorDeserto</td>\n",
              "      <td>Edmar2310</td>\n",
              "      <td>Mon Feb 14 18:39:03 +0000 2022</td>\n",
              "      <td>1493293728638853124</td>\n",
              "    </tr>\n",
              "    <tr>\n",
              "      <th>762</th>\n",
              "      <td>FlorDeserto</td>\n",
              "      <td>Edmar2310</td>\n",
              "      <td>Mon Feb 14 18:38:57 +0000 2022</td>\n",
              "      <td>1493293701820555271</td>\n",
              "    </tr>\n",
              "    <tr>\n",
              "      <th>763</th>\n",
              "      <td>VGNoticias</td>\n",
              "      <td>minsaude</td>\n",
              "      <td>Mon Feb 14 18:33:44 +0000 2022</td>\n",
              "      <td>1493292390043602948</td>\n",
              "    </tr>\n",
              "    <tr>\n",
              "      <th>764</th>\n",
              "      <td>lourencyjr</td>\n",
              "      <td>opaisonline</td>\n",
              "      <td>Mon Feb 14 18:33:44 +0000 2022</td>\n",
              "      <td>1493292389892603904</td>\n",
              "    </tr>\n",
              "  </tbody>\n",
              "</table>\n",
              "</div>\n",
              "      <button class=\"colab-df-convert\" onclick=\"convertToInteractive('df-bbf3c659-cfc7-493e-a12d-51a6a0c6eba1')\"\n",
              "              title=\"Convert this dataframe to an interactive table.\"\n",
              "              style=\"display:none;\">\n",
              "        \n",
              "  <svg xmlns=\"http://www.w3.org/2000/svg\" height=\"24px\"viewBox=\"0 0 24 24\"\n",
              "       width=\"24px\">\n",
              "    <path d=\"M0 0h24v24H0V0z\" fill=\"none\"/>\n",
              "    <path d=\"M18.56 5.44l.94 2.06.94-2.06 2.06-.94-2.06-.94-.94-2.06-.94 2.06-2.06.94zm-11 1L8.5 8.5l.94-2.06 2.06-.94-2.06-.94L8.5 2.5l-.94 2.06-2.06.94zm10 10l.94 2.06.94-2.06 2.06-.94-2.06-.94-.94-2.06-.94 2.06-2.06.94z\"/><path d=\"M17.41 7.96l-1.37-1.37c-.4-.4-.92-.59-1.43-.59-.52 0-1.04.2-1.43.59L10.3 9.45l-7.72 7.72c-.78.78-.78 2.05 0 2.83L4 21.41c.39.39.9.59 1.41.59.51 0 1.02-.2 1.41-.59l7.78-7.78 2.81-2.81c.8-.78.8-2.07 0-2.86zM5.41 20L4 18.59l7.72-7.72 1.47 1.35L5.41 20z\"/>\n",
              "  </svg>\n",
              "      </button>\n",
              "      \n",
              "  <style>\n",
              "    .colab-df-container {\n",
              "      display:flex;\n",
              "      flex-wrap:wrap;\n",
              "      gap: 12px;\n",
              "    }\n",
              "\n",
              "    .colab-df-convert {\n",
              "      background-color: #E8F0FE;\n",
              "      border: none;\n",
              "      border-radius: 50%;\n",
              "      cursor: pointer;\n",
              "      display: none;\n",
              "      fill: #1967D2;\n",
              "      height: 32px;\n",
              "      padding: 0 0 0 0;\n",
              "      width: 32px;\n",
              "    }\n",
              "\n",
              "    .colab-df-convert:hover {\n",
              "      background-color: #E2EBFA;\n",
              "      box-shadow: 0px 1px 2px rgba(60, 64, 67, 0.3), 0px 1px 3px 1px rgba(60, 64, 67, 0.15);\n",
              "      fill: #174EA6;\n",
              "    }\n",
              "\n",
              "    [theme=dark] .colab-df-convert {\n",
              "      background-color: #3B4455;\n",
              "      fill: #D2E3FC;\n",
              "    }\n",
              "\n",
              "    [theme=dark] .colab-df-convert:hover {\n",
              "      background-color: #434B5C;\n",
              "      box-shadow: 0px 1px 3px 1px rgba(0, 0, 0, 0.15);\n",
              "      filter: drop-shadow(0px 1px 2px rgba(0, 0, 0, 0.3));\n",
              "      fill: #FFFFFF;\n",
              "    }\n",
              "  </style>\n",
              "\n",
              "      <script>\n",
              "        const buttonEl =\n",
              "          document.querySelector('#df-bbf3c659-cfc7-493e-a12d-51a6a0c6eba1 button.colab-df-convert');\n",
              "        buttonEl.style.display =\n",
              "          google.colab.kernel.accessAllowed ? 'block' : 'none';\n",
              "\n",
              "        async function convertToInteractive(key) {\n",
              "          const element = document.querySelector('#df-bbf3c659-cfc7-493e-a12d-51a6a0c6eba1');\n",
              "          const dataTable =\n",
              "            await google.colab.kernel.invokeFunction('convertToInteractive',\n",
              "                                                     [key], {});\n",
              "          if (!dataTable) return;\n",
              "\n",
              "          const docLinkHtml = 'Like what you see? Visit the ' +\n",
              "            '<a target=\"_blank\" href=https://colab.research.google.com/notebooks/data_table.ipynb>data table notebook</a>'\n",
              "            + ' to learn more about interactive tables.';\n",
              "          element.innerHTML = '';\n",
              "          dataTable['output_type'] = 'display_data';\n",
              "          await google.colab.output.renderOutput(dataTable, element);\n",
              "          const docLink = document.createElement('div');\n",
              "          docLink.innerHTML = docLinkHtml;\n",
              "          element.appendChild(docLink);\n",
              "        }\n",
              "      </script>\n",
              "    </div>\n",
              "  </div>\n",
              "  "
            ],
            "text/plain": [
              "        username  ...                   id\n",
              "760  FlorDeserto  ...  1493293728638853124\n",
              "761  FlorDeserto  ...  1493293728638853124\n",
              "762  FlorDeserto  ...  1493293701820555271\n",
              "763   VGNoticias  ...  1493292390043602948\n",
              "764   lourencyjr  ...  1493292389892603904\n",
              "\n",
              "[5 rows x 4 columns]"
            ]
          },
          "metadata": {},
          "execution_count": 33
        }
      ]
    },
    {
      "cell_type": "markdown",
      "source": [
        "Save dataframe in a csv file:"
      ],
      "metadata": {
        "id": "8lD5ws9Z6TT-"
      }
    },
    {
      "cell_type": "code",
      "source": [
        "import datetime\n",
        "\n",
        "# Getting today's date\n",
        "datestamp = datetime.datetime.now().strftime(\"%Y-%m-%d\")\n",
        "\n",
        "csv_filename = hashtag+\"-\"+datestamp+\".csv\"\n",
        "\n",
        "df.to_csv(csv_filename, index=False)"
      ],
      "metadata": {
        "id": "x95IWED5_KKu"
      },
      "execution_count": null,
      "outputs": []
    },
    {
      "cell_type": "markdown",
      "source": [
        "## 3.2 Create DiGraph"
      ],
      "metadata": {
        "id": "Dh3iuheW6aQw"
      }
    },
    {
      "cell_type": "code",
      "source": [
        "import networkx as nx\n",
        "\n",
        "D = nx.DiGraph()\n",
        "\n",
        "for index, row in df.iterrows():\n",
        "    if D.has_edge(row['username'], row['mentioned']):\n",
        "        D.edges[row['username'], row['mentioned']]['weight'] += 1\n",
        "    else:\n",
        "        D.add_edge(row['username'], row['mentioned'], weight=1)"
      ],
      "metadata": {
        "id": "dsEyIPQe8l2H"
      },
      "execution_count": null,
      "outputs": []
    },
    {
      "cell_type": "code",
      "source": [
        "nx.write_graphml(D, \"mentions.graphml\")"
      ],
      "metadata": {
        "colab": {
          "base_uri": "https://localhost:8080/",
          "height": 17
        },
        "id": "kg6I2cNKNQ-w",
        "outputId": "c65eb92e-cfc9-4b33-a168-afae4a5fe273"
      },
      "execution_count": null,
      "outputs": [
        {
          "output_type": "display_data",
          "data": {
            "application/javascript": [
              "\n",
              "    async function download(id, filename, size) {\n",
              "      if (!google.colab.kernel.accessAllowed) {\n",
              "        return;\n",
              "      }\n",
              "      const div = document.createElement('div');\n",
              "      const label = document.createElement('label');\n",
              "      label.textContent = `Downloading \"${filename}\": `;\n",
              "      div.appendChild(label);\n",
              "      const progress = document.createElement('progress');\n",
              "      progress.max = size;\n",
              "      div.appendChild(progress);\n",
              "      document.body.appendChild(div);\n",
              "\n",
              "      const buffers = [];\n",
              "      let downloaded = 0;\n",
              "\n",
              "      const channel = await google.colab.kernel.comms.open(id);\n",
              "      // Send a message to notify the kernel that we're ready.\n",
              "      channel.send({})\n",
              "\n",
              "      for await (const message of channel.messages) {\n",
              "        // Send a message to notify the kernel that we're ready.\n",
              "        channel.send({})\n",
              "        if (message.buffers) {\n",
              "          for (const buffer of message.buffers) {\n",
              "            buffers.push(buffer);\n",
              "            downloaded += buffer.byteLength;\n",
              "            progress.value = downloaded;\n",
              "          }\n",
              "        }\n",
              "      }\n",
              "      const blob = new Blob(buffers, {type: 'application/binary'});\n",
              "      const a = document.createElement('a');\n",
              "      a.href = window.URL.createObjectURL(blob);\n",
              "      a.download = filename;\n",
              "      div.appendChild(a);\n",
              "      a.click();\n",
              "      div.remove();\n",
              "    }\n",
              "  "
            ],
            "text/plain": [
              "<IPython.core.display.Javascript object>"
            ]
          },
          "metadata": {}
        },
        {
          "output_type": "display_data",
          "data": {
            "application/javascript": [
              "download(\"download_90773e58-2ef4-4957-9f93-4909569cad25\", \"mentions.graphml\", 81674)"
            ],
            "text/plain": [
              "<IPython.core.display.Javascript object>"
            ]
          },
          "metadata": {}
        }
      ]
    },
    {
      "cell_type": "markdown",
      "metadata": {
        "id": "E6kCRyxHvS2H"
      },
      "source": [
        "## 3.3 Analyze graph\n"
      ]
    },
    {
      "cell_type": "markdown",
      "metadata": {
        "id": "POlLpNlvsKa8"
      },
      "source": [
        "\n",
        "Now that we have this graph, let's ask some questions about it.\n"
      ]
    },
    {
      "cell_type": "markdown",
      "metadata": {
        "id": "lVFp47K1sMtp"
      },
      "source": [
        "### 3.3.1 Most  popular users\n"
      ]
    },
    {
      "cell_type": "markdown",
      "metadata": {
        "id": "-M0dpdjusNdg"
      },
      "source": [
        "\n",
        "Since these edges are in the direction of attention flow, in-degree gives us the number of other users mentioning a given user. We can get the user with highest in-degree using the built-in `max` function:"
      ]
    },
    {
      "cell_type": "code",
      "metadata": {
        "id": "BccWG-fFvS2H",
        "colab": {
          "base_uri": "https://localhost:8080/",
          "height": 35
        },
        "outputId": "1ffe35fa-09fe-43c4-9b81-e65b71ca19fe"
      },
      "source": [
        "max(D.nodes, key=D.in_degree)"
      ],
      "execution_count": null,
      "outputs": [
        {
          "output_type": "execute_result",
          "data": {
            "application/vnd.google.colaboratory.intrinsic+json": {
              "type": "string"
            },
            "text/plain": [
              "'contagemcorona1'"
            ]
          },
          "metadata": {},
          "execution_count": 35
        }
      ]
    },
    {
      "cell_type": "code",
      "source": [
        "usuario = twitter.show_user(screen_name='contagemcorona1')\n",
        "print(\"\"\"@{screen_name} has {followers_count} followers, follows {friends_count} users and has tweeted and retweeted {statuses_count} times.\\n\"\"\".format(**usuario))\n",
        "print(\"\"\"@{screen_name} description:\\n{description}\\n\"\"\".format(**usuario))\n",
        "print(\"\"\"@{screen_name} status:\\n{status}\\n\"\"\".format(**usuario))"
      ],
      "metadata": {
        "colab": {
          "base_uri": "https://localhost:8080/"
        },
        "id": "P-7JDxIV_qfX",
        "outputId": "09ac3e9e-7178-44d3-f04f-3b6524b28e42"
      },
      "execution_count": null,
      "outputs": [
        {
          "output_type": "stream",
          "name": "stdout",
          "text": [
            "@contagemcorona1 has 35182 followers, follows 670 users and has tweeted and retweeted 38839 times.\n",
            "\n",
            "@contagemcorona1 description:\n",
            "Somos um coletivo mostrando o cenário real da pandemia no Brasil, com notícias atualizadas 24h.\n",
            "\n",
            "Também mobilizamos e levamos doações a quem precisa.\n",
            "Colabore!\n",
            "\n",
            "@contagemcorona1 status:\n",
            "{'created_at': 'Tue Feb 15 20:14:45 +0000 2022', 'id': 1493680199262781440, 'id_str': '1493680199262781440', 'text': '⚫SAO PAULO\\n\\nEstado registrou mais de 16 mil novos casos e 251 mortes por #Covid19 nas últimas 24h.\\n\\nTotal de vidas… https://t.co/odjQDGPYzS', 'truncated': True, 'entities': {'hashtags': [{'text': 'Covid19', 'indices': [73, 81]}], 'symbols': [], 'user_mentions': [], 'urls': [{'url': 'https://t.co/odjQDGPYzS', 'expanded_url': 'https://twitter.com/i/web/status/1493680199262781440', 'display_url': 'twitter.com/i/web/status/1…', 'indices': [116, 139]}]}, 'source': '<a href=\"http://twitter.com/download/android\" rel=\"nofollow\">Twitter for Android</a>', 'in_reply_to_status_id': None, 'in_reply_to_status_id_str': None, 'in_reply_to_user_id': None, 'in_reply_to_user_id_str': None, 'in_reply_to_screen_name': None, 'geo': None, 'coordinates': None, 'place': None, 'contributors': None, 'is_quote_status': False, 'retweet_count': 2, 'favorite_count': 6, 'favorited': False, 'retweeted': False, 'lang': 'pt'}\n",
            "\n"
          ]
        }
      ]
    },
    {
      "cell_type": "markdown",
      "metadata": {
        "id": "8CurZ_rgvS2H"
      },
      "source": [
        "we can get more context and information from the top 5 users:"
      ]
    },
    {
      "cell_type": "code",
      "metadata": {
        "id": "4ssn9eEdvS2H",
        "colab": {
          "base_uri": "https://localhost:8080/"
        },
        "outputId": "08d2fb9f-f4df-4f18-fa37-a38fc54b254c"
      },
      "source": [
        "from operator import itemgetter\n",
        "\n",
        "sorted(D.in_degree(), key=itemgetter(1), reverse=True)[:5]"
      ],
      "execution_count": null,
      "outputs": [
        {
          "output_type": "execute_result",
          "data": {
            "text/plain": [
              "[('contagemcorona1', 54),\n",
              " ('mqueiroga2', 26),\n",
              " ('SSalud_mx', 25),\n",
              " ('tvsenado', 24),\n",
              " ('randolfeap', 22)]"
            ]
          },
          "metadata": {},
          "execution_count": 40
        }
      ]
    },
    {
      "cell_type": "markdown",
      "metadata": {
        "id": "XJXO6vWPvS2H"
      },
      "source": [
        "By specifying `weight='weight'` we can instead get the top 5 users by in-strength instead of in-degree:"
      ]
    },
    {
      "cell_type": "code",
      "metadata": {
        "id": "ZHU0kZR3vS2H",
        "colab": {
          "base_uri": "https://localhost:8080/"
        },
        "outputId": "e080dbf9-c307-442e-f13b-6824f42b846b"
      },
      "source": [
        "sorted(D.in_degree(weight='weight'), key=itemgetter(1), reverse=True)[:5]"
      ],
      "execution_count": null,
      "outputs": [
        {
          "output_type": "execute_result",
          "data": {
            "text/plain": [
              "[('contagemcorona1', 113),\n",
              " ('mqueiroga2', 26),\n",
              " ('SSalud_mx', 25),\n",
              " ('tvsenado', 24),\n",
              " ('randolfeap', 22)]"
            ]
          },
          "metadata": {},
          "execution_count": 41
        }
      ]
    },
    {
      "cell_type": "markdown",
      "metadata": {
        "id": "H9evz4hsvS2H"
      },
      "source": [
        "In some cases these two results will be the same, namely if none of these users has been mentioned multiple times by the same user. Depending on your use case, you may or may not wish to take the weights into account.\n"
      ]
    },
    {
      "cell_type": "markdown",
      "metadata": {
        "id": "HeopeYu0sb5f"
      },
      "source": [
        "### 3.3.2 Conversation drivers\n"
      ]
    },
    {
      "cell_type": "markdown",
      "metadata": {
        "id": "2vgSIE0esc1G"
      },
      "source": [
        "\n",
        "A user mentioning many others in a conversation may be \"driving\" the conversation and trying to include others in the dialogue. It could also be spam. Let's see who is doing the most mentioning here:"
      ]
    },
    {
      "cell_type": "code",
      "metadata": {
        "scrolled": true,
        "id": "sNNy8AMTvS2H",
        "colab": {
          "base_uri": "https://localhost:8080/"
        },
        "outputId": "59ada739-75e4-4fa9-ef05-7107bb2a81dc"
      },
      "source": [
        "sorted(D.out_degree(weight='weight'), key=itemgetter(1), reverse=True)[:5]"
      ],
      "execution_count": null,
      "outputs": [
        {
          "output_type": "execute_result",
          "data": {
            "text/plain": [
              "[('Bot_Corona_V', 112),\n",
              " ('denio_vale', 35),\n",
              " ('BrazilSFE', 20),\n",
              " ('Mulher_Noticia', 14),\n",
              " ('levycorreia', 8)]"
            ]
          },
          "metadata": {},
          "execution_count": 42
        }
      ]
    },
    {
      "cell_type": "code",
      "source": [
        "usuario = twitter.show_user(screen_name='Bot_Corona_V')\n",
        "print(\"\"\"@{screen_name} has {followers_count} followers, follows {friends_count} users and has tweeted and retweeted {statuses_count} times.\\n\"\"\".format(**usuario))\n",
        "print(\"\"\"@{screen_name} description:\\n{description}\\n\"\"\".format(**usuario))\n",
        "print(\"\"\"@{screen_name} status:\\n{status}\\n\"\"\".format(**usuario))"
      ],
      "metadata": {
        "colab": {
          "base_uri": "https://localhost:8080/"
        },
        "id": "0Ek5qr5gAC8O",
        "outputId": "2c09b2a4-35e5-4cc8-d764-7f63fa288d64"
      },
      "execution_count": null,
      "outputs": [
        {
          "output_type": "stream",
          "name": "stdout",
          "text": [
            "@Bot_Corona_V has 2767 followers, follows 9 users and has tweeted and retweeted 408836 times.\n",
            "\n",
            "@Bot_Corona_V description:\n",
            "Apenas um bot que retweeta assuntos com relação ao COVID-19.\n",
            "\n",
            "@Bot_Corona_V status:\n",
            "{'created_at': 'Tue Feb 15 20:11:31 +0000 2022', 'id': 1493679386918330373, 'id_str': '1493679386918330373', 'text': 'RT @RICMais_: Covid: PR completa um mês de vacinação infantil e especialistas reforçam importância #RICMais #coronavirus\\nhttps://t.co/ivUnB…', 'truncated': False, 'entities': {'hashtags': [{'text': 'RICMais', 'indices': [99, 107]}, {'text': 'coronavirus', 'indices': [108, 120]}], 'symbols': [], 'user_mentions': [{'screen_name': 'RICMais_', 'name': 'RIC Mais', 'id': 389031552, 'id_str': '389031552', 'indices': [3, 12]}], 'urls': []}, 'source': '<a href=\"https://github.com/snowlew\" rel=\"nofollow\">Alpha-sun</a>', 'in_reply_to_status_id': None, 'in_reply_to_status_id_str': None, 'in_reply_to_user_id': None, 'in_reply_to_user_id_str': None, 'in_reply_to_screen_name': None, 'geo': None, 'coordinates': None, 'place': None, 'contributors': None, 'retweeted_status': {'created_at': 'Tue Feb 15 20:11:11 +0000 2022', 'id': 1493679301501370369, 'id_str': '1493679301501370369', 'text': 'Covid: PR completa um mês de vacinação infantil e especialistas reforçam importância #RICMais #coronavirus… https://t.co/V79k4TBnX0', 'truncated': True, 'entities': {'hashtags': [{'text': 'RICMais', 'indices': [85, 93]}, {'text': 'coronavirus', 'indices': [94, 106]}], 'symbols': [], 'user_mentions': [], 'urls': [{'url': 'https://t.co/V79k4TBnX0', 'expanded_url': 'https://twitter.com/i/web/status/1493679301501370369', 'display_url': 'twitter.com/i/web/status/1…', 'indices': [108, 131]}]}, 'source': '<a href=\"https://about.twitter.com/products/tweetdeck\" rel=\"nofollow\">TweetDeck</a>', 'in_reply_to_status_id': None, 'in_reply_to_status_id_str': None, 'in_reply_to_user_id': None, 'in_reply_to_user_id_str': None, 'in_reply_to_screen_name': None, 'geo': None, 'coordinates': None, 'place': None, 'contributors': None, 'is_quote_status': False, 'retweet_count': 1, 'favorite_count': 0, 'favorited': False, 'retweeted': False, 'possibly_sensitive': False, 'lang': 'pt'}, 'is_quote_status': False, 'retweet_count': 1, 'favorite_count': 0, 'favorited': False, 'retweeted': False, 'lang': 'pt'}\n",
            "\n"
          ]
        }
      ]
    },
    {
      "cell_type": "markdown",
      "metadata": {
        "id": "Uf3jf8_gvS2I"
      },
      "source": [
        "### 3.3.3 Connectivity\n"
      ]
    },
    {
      "cell_type": "markdown",
      "metadata": {
        "id": "tMOu14cZsnCP"
      },
      "source": [
        "\n",
        "We can ask if the tweets obtained by the search represent one large conversation or many small conversations; broadly speaking, each weakly-connected component represents a conversation."
      ]
    },
    {
      "cell_type": "code",
      "metadata": {
        "id": "qxVQ6vvQvS2I",
        "colab": {
          "base_uri": "https://localhost:8080/"
        },
        "outputId": "3767a9b9-b66e-48cd-c7f2-d947033fc9e1"
      },
      "source": [
        "nx.is_weakly_connected(D)"
      ],
      "execution_count": null,
      "outputs": [
        {
          "output_type": "execute_result",
          "data": {
            "text/plain": [
              "False"
            ]
          },
          "metadata": {},
          "execution_count": 65
        }
      ]
    },
    {
      "cell_type": "code",
      "metadata": {
        "id": "brsS_z7PvS2I",
        "colab": {
          "base_uri": "https://localhost:8080/"
        },
        "outputId": "289c6388-b941-4171-b07c-a5c44902ae0b"
      },
      "source": [
        "nx.number_weakly_connected_components(D)"
      ],
      "execution_count": null,
      "outputs": [
        {
          "output_type": "execute_result",
          "data": {
            "text/plain": [
              "90"
            ]
          },
          "metadata": {},
          "execution_count": 66
        }
      ]
    },
    {
      "cell_type": "markdown",
      "metadata": {
        "id": "if3Q37olvS2H"
      },
      "source": [
        "## 3.4 Drawing\n"
      ]
    },
    {
      "cell_type": "markdown",
      "metadata": {
        "id": "3KK4uatvrKCu"
      },
      "source": [
        "\n",
        "We can try to draw this graph with the nodes sized by their out-strength:"
      ]
    },
    {
      "cell_type": "code",
      "metadata": {
        "id": "AzVkPs8kvS2H",
        "colab": {
          "base_uri": "https://localhost:8080/",
          "height": 319
        },
        "outputId": "41c012f7-a6fb-4988-db62-928ba7f7838c"
      },
      "source": [
        "node_sizes = [D.in_degree(n, weight='weight') * 20 for n in D.nodes]\n",
        "\n",
        "%matplotlib inline\n",
        "nx.draw(D, node_size=node_sizes)"
      ],
      "execution_count": null,
      "outputs": [
        {
          "output_type": "display_data",
          "data": {
            "image/png": "[encoded data removed]",
            "text/plain": [
              "<Figure size 432x288 with 1 Axes>"
            ]
          },
          "metadata": {}
        }
      ]
    },
    {
      "cell_type": "markdown",
      "source": [
        "# 4 Collecting data for a week"
      ],
      "metadata": {
        "id": "VR5nWnyHSq9O"
      }
    },
    {
      "cell_type": "markdown",
      "source": [
        "The 'data' folder has csv files with mentions of users on twitter in the hashtag #covid19 in tweets in portuguese during the period of one week.\n",
        "\n",
        "Reading all csv files from the folder and turning them all into a single dataframe:"
      ],
      "metadata": {
        "id": "FRUF8-XTxh31"
      }
    },
    {
      "cell_type": "code",
      "execution_count": null,
      "metadata": {
        "id": "kRozzB-LSS8r",
        "colab": {
          "base_uri": "https://localhost:8080/"
        },
        "outputId": "95852f3e-8521-4b99-fc2e-b8e9f0713c30"
      },
      "outputs": [
        {
          "output_type": "stream",
          "name": "stdout",
          "text": [
            "Mounted at /content/drive\n"
          ]
        }
      ],
      "source": [
        "#using google drive\n",
        "from google.colab import drive\n",
        "drive.mount('/content/drive')"
      ]
    },
    {
      "cell_type": "code",
      "source": [
        "import pandas as pd\n",
        "import glob\n",
        "\n",
        "path = '/content/drive/MyDrive/Colab Notebooks/data' # use your path\n",
        "\n",
        "all_files = glob.glob(path + \"/*.csv\")\n",
        "\n",
        "df = pd.concat((pd.read_csv(f) for f in all_files))\n",
        "\n",
        "print(df.shape)\n",
        "df.head(10)\n"
      ],
      "metadata": {
        "colab": {
          "base_uri": "https://localhost:8080/",
          "height": 380
        },
        "id": "xGUxfcw5SwBn",
        "outputId": "38713756-61ba-443e-bc29-5212cd9550b5"
      },
      "execution_count": null,
      "outputs": [
        {
          "output_type": "stream",
          "name": "stdout",
          "text": [
            "(11065, 4)\n"
          ]
        },
        {
          "output_type": "execute_result",
          "data": {
            "text/html": [
              "\n",
              "  <div id=\"df-f4ba22dc-8428-4b04-a88f-566954919fe5\">\n",
              "    <div class=\"colab-df-container\">\n",
              "      <div>\n",
              "<style scoped>\n",
              "    .dataframe tbody tr th:only-of-type {\n",
              "        vertical-align: middle;\n",
              "    }\n",
              "\n",
              "    .dataframe tbody tr th {\n",
              "        vertical-align: top;\n",
              "    }\n",
              "\n",
              "    .dataframe thead th {\n",
              "        text-align: right;\n",
              "    }\n",
              "</style>\n",
              "<table border=\"1\" class=\"dataframe\">\n",
              "  <thead>\n",
              "    <tr style=\"text-align: right;\">\n",
              "      <th></th>\n",
              "      <th>username</th>\n",
              "      <th>mentioned</th>\n",
              "      <th>date</th>\n",
              "      <th>id</th>\n",
              "    </tr>\n",
              "  </thead>\n",
              "  <tbody>\n",
              "    <tr>\n",
              "      <th>0</th>\n",
              "      <td>Mulher_Noticia</td>\n",
              "      <td>contagemcorona1</td>\n",
              "      <td>Wed Feb 09 23:59:05 +0000 2022</td>\n",
              "      <td>1491562326239195144</td>\n",
              "    </tr>\n",
              "    <tr>\n",
              "      <th>1</th>\n",
              "      <td>Bot_Corona_V</td>\n",
              "      <td>BrazilSFE</td>\n",
              "      <td>Wed Feb 09 23:58:42 +0000 2022</td>\n",
              "      <td>1491562229854048257</td>\n",
              "    </tr>\n",
              "    <tr>\n",
              "      <th>2</th>\n",
              "      <td>Bot_Corona_V</td>\n",
              "      <td>merial</td>\n",
              "      <td>Wed Feb 09 23:58:42 +0000 2022</td>\n",
              "      <td>1491562229854048257</td>\n",
              "    </tr>\n",
              "    <tr>\n",
              "      <th>3</th>\n",
              "      <td>Bot_Corona_V</td>\n",
              "      <td>kineta</td>\n",
              "      <td>Wed Feb 09 23:58:42 +0000 2022</td>\n",
              "      <td>1491562229854048257</td>\n",
              "    </tr>\n",
              "    <tr>\n",
              "      <th>4</th>\n",
              "      <td>BrazilSFE</td>\n",
              "      <td>merial</td>\n",
              "      <td>Wed Feb 09 23:58:08 +0000 2022</td>\n",
              "      <td>1491562087931330561</td>\n",
              "    </tr>\n",
              "    <tr>\n",
              "      <th>5</th>\n",
              "      <td>BrazilSFE</td>\n",
              "      <td>kineta</td>\n",
              "      <td>Wed Feb 09 23:58:08 +0000 2022</td>\n",
              "      <td>1491562087931330561</td>\n",
              "    </tr>\n",
              "    <tr>\n",
              "      <th>6</th>\n",
              "      <td>Mulher_Noticia</td>\n",
              "      <td>contagemcorona1</td>\n",
              "      <td>Wed Feb 09 23:57:38 +0000 2022</td>\n",
              "      <td>1491561962471309312</td>\n",
              "    </tr>\n",
              "    <tr>\n",
              "      <th>7</th>\n",
              "      <td>Mulher_Noticia</td>\n",
              "      <td>contagemcorona1</td>\n",
              "      <td>Wed Feb 09 23:54:29 +0000 2022</td>\n",
              "      <td>1491561168661581825</td>\n",
              "    </tr>\n",
              "    <tr>\n",
              "      <th>8</th>\n",
              "      <td>faconti</td>\n",
              "      <td>brasil_io</td>\n",
              "      <td>Wed Feb 09 23:54:12 +0000 2022</td>\n",
              "      <td>1491561096972574732</td>\n",
              "    </tr>\n",
              "    <tr>\n",
              "      <th>9</th>\n",
              "      <td>FreitasLuizete</td>\n",
              "      <td>contagemcorona1</td>\n",
              "      <td>Wed Feb 09 23:48:48 +0000 2022</td>\n",
              "      <td>1491559738504531969</td>\n",
              "    </tr>\n",
              "  </tbody>\n",
              "</table>\n",
              "</div>\n",
              "      <button class=\"colab-df-convert\" onclick=\"convertToInteractive('df-f4ba22dc-8428-4b04-a88f-566954919fe5')\"\n",
              "              title=\"Convert this dataframe to an interactive table.\"\n",
              "              style=\"display:none;\">\n",
              "        \n",
              "  <svg xmlns=\"http://www.w3.org/2000/svg\" height=\"24px\"viewBox=\"0 0 24 24\"\n",
              "       width=\"24px\">\n",
              "    <path d=\"M0 0h24v24H0V0z\" fill=\"none\"/>\n",
              "    <path d=\"M18.56 5.44l.94 2.06.94-2.06 2.06-.94-2.06-.94-.94-2.06-.94 2.06-2.06.94zm-11 1L8.5 8.5l.94-2.06 2.06-.94-2.06-.94L8.5 2.5l-.94 2.06-2.06.94zm10 10l.94 2.06.94-2.06 2.06-.94-2.06-.94-.94-2.06-.94 2.06-2.06.94z\"/><path d=\"M17.41 7.96l-1.37-1.37c-.4-.4-.92-.59-1.43-.59-.52 0-1.04.2-1.43.59L10.3 9.45l-7.72 7.72c-.78.78-.78 2.05 0 2.83L4 21.41c.39.39.9.59 1.41.59.51 0 1.02-.2 1.41-.59l7.78-7.78 2.81-2.81c.8-.78.8-2.07 0-2.86zM5.41 20L4 18.59l7.72-7.72 1.47 1.35L5.41 20z\"/>\n",
              "  </svg>\n",
              "      </button>\n",
              "      \n",
              "  <style>\n",
              "    .colab-df-container {\n",
              "      display:flex;\n",
              "      flex-wrap:wrap;\n",
              "      gap: 12px;\n",
              "    }\n",
              "\n",
              "    .colab-df-convert {\n",
              "      background-color: #E8F0FE;\n",
              "      border: none;\n",
              "      border-radius: 50%;\n",
              "      cursor: pointer;\n",
              "      display: none;\n",
              "      fill: #1967D2;\n",
              "      height: 32px;\n",
              "      padding: 0 0 0 0;\n",
              "      width: 32px;\n",
              "    }\n",
              "\n",
              "    .colab-df-convert:hover {\n",
              "      background-color: #E2EBFA;\n",
              "      box-shadow: 0px 1px 2px rgba(60, 64, 67, 0.3), 0px 1px 3px 1px rgba(60, 64, 67, 0.15);\n",
              "      fill: #174EA6;\n",
              "    }\n",
              "\n",
              "    [theme=dark] .colab-df-convert {\n",
              "      background-color: #3B4455;\n",
              "      fill: #D2E3FC;\n",
              "    }\n",
              "\n",
              "    [theme=dark] .colab-df-convert:hover {\n",
              "      background-color: #434B5C;\n",
              "      box-shadow: 0px 1px 3px 1px rgba(0, 0, 0, 0.15);\n",
              "      filter: drop-shadow(0px 1px 2px rgba(0, 0, 0, 0.3));\n",
              "      fill: #FFFFFF;\n",
              "    }\n",
              "  </style>\n",
              "\n",
              "      <script>\n",
              "        const buttonEl =\n",
              "          document.querySelector('#df-f4ba22dc-8428-4b04-a88f-566954919fe5 button.colab-df-convert');\n",
              "        buttonEl.style.display =\n",
              "          google.colab.kernel.accessAllowed ? 'block' : 'none';\n",
              "\n",
              "        async function convertToInteractive(key) {\n",
              "          const element = document.querySelector('#df-f4ba22dc-8428-4b04-a88f-566954919fe5');\n",
              "          const dataTable =\n",
              "            await google.colab.kernel.invokeFunction('convertToInteractive',\n",
              "                                                     [key], {});\n",
              "          if (!dataTable) return;\n",
              "\n",
              "          const docLinkHtml = 'Like what you see? Visit the ' +\n",
              "            '<a target=\"_blank\" href=https://colab.research.google.com/notebooks/data_table.ipynb>data table notebook</a>'\n",
              "            + ' to learn more about interactive tables.';\n",
              "          element.innerHTML = '';\n",
              "          dataTable['output_type'] = 'display_data';\n",
              "          await google.colab.output.renderOutput(dataTable, element);\n",
              "          const docLink = document.createElement('div');\n",
              "          docLink.innerHTML = docLinkHtml;\n",
              "          element.appendChild(docLink);\n",
              "        }\n",
              "      </script>\n",
              "    </div>\n",
              "  </div>\n",
              "  "
            ],
            "text/plain": [
              "         username  ...                   id\n",
              "0  Mulher_Noticia  ...  1491562326239195144\n",
              "1    Bot_Corona_V  ...  1491562229854048257\n",
              "2    Bot_Corona_V  ...  1491562229854048257\n",
              "3    Bot_Corona_V  ...  1491562229854048257\n",
              "4       BrazilSFE  ...  1491562087931330561\n",
              "5       BrazilSFE  ...  1491562087931330561\n",
              "6  Mulher_Noticia  ...  1491561962471309312\n",
              "7  Mulher_Noticia  ...  1491561168661581825\n",
              "8         faconti  ...  1491561096972574732\n",
              "9  FreitasLuizete  ...  1491559738504531969\n",
              "\n",
              "[10 rows x 4 columns]"
            ]
          },
          "metadata": {},
          "execution_count": 72
        }
      ]
    },
    {
      "cell_type": "markdown",
      "source": [
        "# 4.1 Create DiGraph"
      ],
      "metadata": {
        "id": "IytHSpO8z99G"
      }
    },
    {
      "cell_type": "code",
      "source": [
        "import networkx as nx\n",
        "\n",
        "D = nx.DiGraph()\n",
        "\n",
        "for index, row in df.iterrows():\n",
        "    if D.has_edge(row['username'], row['mentioned']):\n",
        "        D.edges[row['username'], row['mentioned']]['weight'] += 1\n",
        "    else:\n",
        "        D.add_edge(row['username'], row['mentioned'], weight = 1)"
      ],
      "metadata": {
        "id": "k-W3mzTpz99H"
      },
      "execution_count": null,
      "outputs": []
    },
    {
      "cell_type": "code",
      "source": [
        "print(\"The graph has {} nodes and {} edges\".format(len(D), nx.number_of_edges(D)))"
      ],
      "metadata": {
        "colab": {
          "base_uri": "https://localhost:8080/"
        },
        "id": "LOU2rwXDQB3n",
        "outputId": "e5461866-9791-4e5b-c83d-faa59424bf15"
      },
      "execution_count": null,
      "outputs": [
        {
          "output_type": "stream",
          "name": "stdout",
          "text": [
            "The graph has 4508 nodes and 5815 edges\n"
          ]
        }
      ]
    },
    {
      "cell_type": "code",
      "source": [
        "nx.write_graphml(D, \"twiter_covid19_mentions.graphml\")"
      ],
      "metadata": {
        "id": "dQDhRcMnz99J"
      },
      "execution_count": null,
      "outputs": []
    },
    {
      "cell_type": "markdown",
      "metadata": {
        "id": "YGZKkIgbz99R"
      },
      "source": [
        "## 4.2 Analyze graph\n"
      ]
    },
    {
      "cell_type": "markdown",
      "metadata": {
        "id": "0sUUbxJXz99R"
      },
      "source": [
        "\n",
        "Now that we have this graph, let's ask some questions about it.\n"
      ]
    },
    {
      "cell_type": "markdown",
      "metadata": {
        "id": "FWdHuUqTz99S"
      },
      "source": [
        "### 4.2.1 Most  popular users\n"
      ]
    },
    {
      "cell_type": "markdown",
      "metadata": {
        "id": "bJL3-pgIz99S"
      },
      "source": [
        "Since these edges are in the direction of attention flow, in-degree gives us the number of other users mentioning a given user. We can get the user with highest in-degree using the built-in `max` function:"
      ]
    },
    {
      "cell_type": "code",
      "metadata": {
        "colab": {
          "base_uri": "https://localhost:8080/",
          "height": 35
        },
        "outputId": "b74927bf-48d3-4400-e242-5513ee8282e9",
        "id": "pneIMrqdz99S"
      },
      "source": [
        "max(D.nodes, key=D.in_degree)"
      ],
      "execution_count": null,
      "outputs": [
        {
          "output_type": "execute_result",
          "data": {
            "application/vnd.google.colaboratory.intrinsic+json": {
              "type": "string"
            },
            "text/plain": [
              "'AiltonBenedito'"
            ]
          },
          "metadata": {},
          "execution_count": 76
        }
      ]
    },
    {
      "cell_type": "markdown",
      "metadata": {
        "id": "ESqcQYBdz99T"
      },
      "source": [
        "\n",
        "we can get more context and information from the top 5 users:"
      ]
    },
    {
      "cell_type": "code",
      "metadata": {
        "colab": {
          "base_uri": "https://localhost:8080/"
        },
        "outputId": "fe8acb01-91aa-4a92-c4a0-a33c4e788926",
        "id": "4soFo2VGz99T"
      },
      "source": [
        "from operator import itemgetter\n",
        "\n",
        "listsorted = sorted(D.in_degree(), key=itemgetter(1), reverse=True)[:5]\n",
        "listsorted"
      ],
      "execution_count": null,
      "outputs": [
        {
          "output_type": "execute_result",
          "data": {
            "text/plain": [
              "[('AiltonBenedito', 596),\n",
              " ('contagemcorona1', 583),\n",
              " ('mqueiroga2', 218),\n",
              " ('jdoriajr', 179),\n",
              " ('Arthurvneto', 167)]"
            ]
          },
          "metadata": {},
          "execution_count": 96
        }
      ]
    },
    {
      "cell_type": "code",
      "source": [
        "users = [i[0] for i in listsorted]\n",
        "for user in users:\n",
        "    usuario = twitter.show_user(screen_name=user)\n",
        "    print(\"\"\"@{screen_name} has {followers_count} followers, follows {friends_count} users and has tweeted and retweeted {statuses_count} times.\"\"\".format(**usuario))\n",
        "    print(\"\"\"@{screen_name} description:\\n{description}\"\"\".format(**usuario))\n",
        "    print(\"-\" * 120)"
      ],
      "metadata": {
        "colab": {
          "base_uri": "https://localhost:8080/"
        },
        "id": "KsWmagwZEVzg",
        "outputId": "0b9ed010-3e32-4da2-ca5b-8a88adcbbd5d"
      },
      "execution_count": null,
      "outputs": [
        {
          "output_type": "stream",
          "name": "stdout",
          "text": [
            "@contagemcorona1 has 35179 followers, follows 670 users and has tweeted and retweeted 38839 times.\n",
            "@contagemcorona1 description:\n",
            "Somos um coletivo mostrando o cenário real da pandemia no Brasil, com notícias atualizadas 24h.\n",
            "\n",
            "Também mobilizamos e levamos doações a quem precisa.\n",
            "Colabore!\n",
            "------------------------------------------------------------------------------------------------------------------------\n",
            "@AiltonBenedito has 247652 followers, follows 1194 users and has tweeted and retweeted 73732 times.\n",
            "@AiltonBenedito description:\n",
            "\"O Senhor é meu pastor, nada me faltará.\"\n",
            "------------------------------------------------------------------------------------------------------------------------\n",
            "@merial has 2 followers, follows 0 users and has tweeted and retweeted 1 times.\n",
            "@merial description:\n",
            "Merial is now part of Boehringer Ingelheim. Follow us on @Boehringer_AH for  company news and related #AnimalHealth info.\n",
            "------------------------------------------------------------------------------------------------------------------------\n",
            "@MiguelNicolelis has 162152 followers, follows 185 users and has tweeted and retweeted 97226 times.\n",
            "@MiguelNicolelis description:\n",
            "Cientista, Palmeirense e apaixonado pelo Brasil. Twitter Oficial (juro por Dna Lygia), Instagram: @mnicolelis\n",
            "------------------------------------------------------------------------------------------------------------------------\n",
            "@adaopaiani has 951 followers, follows 894 users and has tweeted and retweeted 3369 times.\n",
            "@adaopaiani description:\n",
            "Advogado.\n",
            "------------------------------------------------------------------------------------------------------------------------\n"
          ]
        }
      ]
    },
    {
      "cell_type": "markdown",
      "metadata": {
        "id": "GQVb6OV7z99U"
      },
      "source": [
        "By specifying `weight='weight'` we can instead get the top 5 users by in-strength instead of in-degree:"
      ]
    },
    {
      "cell_type": "code",
      "metadata": {
        "colab": {
          "base_uri": "https://localhost:8080/"
        },
        "outputId": "f4e7dc8a-4a52-4779-f846-cad9740d626f",
        "id": "82yCQyvhz99U"
      },
      "source": [
        "listsorted = sorted(D.in_degree(weight='weight'), key=itemgetter(1), reverse=True)[:5]\n",
        "listsorted"
      ],
      "execution_count": null,
      "outputs": [
        {
          "output_type": "execute_result",
          "data": {
            "text/plain": [
              "[('contagemcorona1', 1929),\n",
              " ('AiltonBenedito', 635),\n",
              " ('merial', 345),\n",
              " ('MiguelNicolelis', 342),\n",
              " ('adaopaiani', 294)]"
            ]
          },
          "metadata": {},
          "execution_count": 98
        }
      ]
    },
    {
      "cell_type": "code",
      "source": [
        "users = [i[0] for i in listsorted]\n",
        "for user in users:\n",
        "    usuario = twitter.show_user(screen_name=user)\n",
        "    print(\"\"\"@{screen_name} has {followers_count} followers, follows {friends_count} users and has tweeted and retweeted {statuses_count} times.\"\"\".format(**usuario))\n",
        "    print(\"\"\"@{screen_name} description:\\n{description}\"\"\".format(**usuario))\n",
        "    print(\"-\" * 120)"
      ],
      "metadata": {
        "colab": {
          "base_uri": "https://localhost:8080/"
        },
        "id": "zNbkAaPM-nHX",
        "outputId": "dae9f886-7f4b-49be-8f37-f05afa465908"
      },
      "execution_count": null,
      "outputs": [
        {
          "output_type": "stream",
          "name": "stdout",
          "text": [
            "@contagemcorona1 has 35182 followers, follows 670 users and has tweeted and retweeted 38839 times.\n",
            "@contagemcorona1 description:\n",
            "Somos um coletivo mostrando o cenário real da pandemia no Brasil, com notícias atualizadas 24h.\n",
            "\n",
            "Também mobilizamos e levamos doações a quem precisa.\n",
            "Colabore!\n",
            "------------------------------------------------------------------------------------------------------------------------\n",
            "@AiltonBenedito has 247652 followers, follows 1194 users and has tweeted and retweeted 73732 times.\n",
            "@AiltonBenedito description:\n",
            "\"O Senhor é meu pastor, nada me faltará.\"\n",
            "------------------------------------------------------------------------------------------------------------------------\n",
            "@merial has 2 followers, follows 0 users and has tweeted and retweeted 1 times.\n",
            "@merial description:\n",
            "Merial is now part of Boehringer Ingelheim. Follow us on @Boehringer_AH for  company news and related #AnimalHealth info.\n",
            "------------------------------------------------------------------------------------------------------------------------\n",
            "@MiguelNicolelis has 162152 followers, follows 185 users and has tweeted and retweeted 97226 times.\n",
            "@MiguelNicolelis description:\n",
            "Cientista, Palmeirense e apaixonado pelo Brasil. Twitter Oficial (juro por Dna Lygia), Instagram: @mnicolelis\n",
            "------------------------------------------------------------------------------------------------------------------------\n",
            "@adaopaiani has 951 followers, follows 894 users and has tweeted and retweeted 3369 times.\n",
            "@adaopaiani description:\n",
            "Advogado.\n",
            "------------------------------------------------------------------------------------------------------------------------\n"
          ]
        }
      ]
    },
    {
      "cell_type": "markdown",
      "metadata": {
        "id": "QqkyDA5Lz99V"
      },
      "source": [
        "In some cases these two results will be the same, namely if none of these users has been mentioned multiple times by the same user. Depending on your use case, you may or may not wish to take the weights into account.\n"
      ]
    },
    {
      "cell_type": "markdown",
      "metadata": {
        "id": "m3h4xTBTz99V"
      },
      "source": [
        "### 4.2.2 Conversation drivers\n"
      ]
    },
    {
      "cell_type": "markdown",
      "metadata": {
        "id": "KEB0vXTZz99W"
      },
      "source": [
        "\n",
        "A user mentioning many others in a conversation may be \"driving\" the conversation and trying to include others in the dialogue. It could also be spam. Let's see who is doing the most mentioning here:"
      ]
    },
    {
      "cell_type": "code",
      "metadata": {
        "scrolled": true,
        "colab": {
          "base_uri": "https://localhost:8080/"
        },
        "outputId": "f819555a-1dde-459d-ccaf-7192b0b05f86",
        "id": "Px6661Inz99W"
      },
      "source": [
        "listsorted = sorted(D.out_degree(weight='weight'), key=itemgetter(1), reverse=True)[:5]\n",
        "listsorted"
      ],
      "execution_count": null,
      "outputs": [
        {
          "output_type": "execute_result",
          "data": {
            "text/plain": [
              "[('Bot_Corona_V', 1529),\n",
              " ('denio_vale', 1002),\n",
              " ('BrazilSFE', 408),\n",
              " ('nicolaskasprzak', 268),\n",
              " ('viralvideovlogs', 264)]"
            ]
          },
          "metadata": {},
          "execution_count": 81
        }
      ]
    },
    {
      "cell_type": "code",
      "source": [
        "users = [i[0] for i in listsorted]\n",
        "for user in users:\n",
        "    usuario = twitter.show_user(screen_name=user)\n",
        "    print(\"\"\"@{screen_name} has {followers_count} followers, follows {friends_count} users and has tweeted and retweeted {statuses_count} times.\"\"\".format(**usuario))\n",
        "    print(\"\"\"@{screen_name} description:\\n{description}\"\"\".format(**usuario))\n",
        "    print(\"-\" * 120)"
      ],
      "metadata": {
        "colab": {
          "base_uri": "https://localhost:8080/"
        },
        "id": "PdfLe3Pi-xZY",
        "outputId": "1ab63e92-4346-4870-95ca-5a168ac6bd5b"
      },
      "execution_count": null,
      "outputs": [
        {
          "output_type": "stream",
          "name": "stdout",
          "text": [
            "@contagemcorona1 has 35182 followers, follows 670 users and has tweeted and retweeted 38839 times.\n",
            "@contagemcorona1 description:\n",
            "Somos um coletivo mostrando o cenário real da pandemia no Brasil, com notícias atualizadas 24h.\n",
            "\n",
            "Também mobilizamos e levamos doações a quem precisa.\n",
            "Colabore!\n",
            "------------------------------------------------------------------------------------------------------------------------\n",
            "@AiltonBenedito has 247653 followers, follows 1194 users and has tweeted and retweeted 73732 times.\n",
            "@AiltonBenedito description:\n",
            "\"O Senhor é meu pastor, nada me faltará.\"\n",
            "------------------------------------------------------------------------------------------------------------------------\n",
            "@merial has 2 followers, follows 0 users and has tweeted and retweeted 1 times.\n",
            "@merial description:\n",
            "Merial is now part of Boehringer Ingelheim. Follow us on @Boehringer_AH for  company news and related #AnimalHealth info.\n",
            "------------------------------------------------------------------------------------------------------------------------\n",
            "@MiguelNicolelis has 162152 followers, follows 185 users and has tweeted and retweeted 97226 times.\n",
            "@MiguelNicolelis description:\n",
            "Cientista, Palmeirense e apaixonado pelo Brasil. Twitter Oficial (juro por Dna Lygia), Instagram: @mnicolelis\n",
            "------------------------------------------------------------------------------------------------------------------------\n",
            "@adaopaiani has 951 followers, follows 894 users and has tweeted and retweeted 3369 times.\n",
            "@adaopaiani description:\n",
            "Advogado.\n",
            "------------------------------------------------------------------------------------------------------------------------\n"
          ]
        }
      ]
    },
    {
      "cell_type": "markdown",
      "metadata": {
        "id": "6xyMIPaZz99W"
      },
      "source": [
        "### 4.2.3 Connectivity\n"
      ]
    },
    {
      "cell_type": "markdown",
      "metadata": {
        "id": "DTf2tIF_z99X"
      },
      "source": [
        "\n",
        "We can ask if the tweets obtained by the search represent one large conversation or many small conversations; broadly speaking, each weakly-connected component represents a conversation."
      ]
    },
    {
      "cell_type": "code",
      "metadata": {
        "colab": {
          "base_uri": "https://localhost:8080/"
        },
        "outputId": "00154bef-153b-460a-a716-34e7cbc96196",
        "id": "mBsltCD3z99X"
      },
      "source": [
        "nx.is_weakly_connected(D)"
      ],
      "execution_count": null,
      "outputs": [
        {
          "output_type": "execute_result",
          "data": {
            "text/plain": [
              "False"
            ]
          },
          "metadata": {},
          "execution_count": 83
        }
      ]
    },
    {
      "cell_type": "code",
      "metadata": {
        "colab": {
          "base_uri": "https://localhost:8080/"
        },
        "outputId": "60264045-e0b2-4103-ace0-0b6badcdca17",
        "id": "s27tLKQ6z99X"
      },
      "source": [
        "nx.number_weakly_connected_components(D)"
      ],
      "execution_count": null,
      "outputs": [
        {
          "output_type": "execute_result",
          "data": {
            "text/plain": [
              "266"
            ]
          },
          "metadata": {},
          "execution_count": 84
        }
      ]
    },
    {
      "cell_type": "markdown",
      "metadata": {
        "id": "eFM8-Gh9z99Y"
      },
      "source": [
        "### 4.2.4 Drawing\n"
      ]
    },
    {
      "cell_type": "markdown",
      "metadata": {
        "id": "5pOcYMuqz99Y"
      },
      "source": [
        "\n",
        "We can try to draw this graph with the nodes sized by their out-strength:"
      ]
    },
    {
      "cell_type": "code",
      "metadata": {
        "colab": {
          "base_uri": "https://localhost:8080/",
          "height": 319
        },
        "outputId": "cfe36c16-03cd-47ff-ae9c-c118066d59e2",
        "id": "lqmqV_pUz99Y"
      },
      "source": [
        "node_sizes = [D.in_degree(n, weight='weight') * 5 for n in D.nodes]\n",
        "\n",
        "%matplotlib inline\n",
        "nx.draw(D, node_size=node_sizes)"
      ],
      "execution_count": null,
      "outputs": [
        {
          "output_type": "display_data",
          "data": {
            "image/png": "[encoded data removed]",
            "text/plain": [
              "<Figure size 432x288 with 1 Axes>"
            ]
          },
          "metadata": {}
        }
      ]
    }
  ]
}